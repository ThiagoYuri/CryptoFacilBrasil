{
 "cells": [
  {
   "cell_type": "code",
   "execution_count": 1,
   "id": "4ad0c3a1-82a0-4111-b959-e249b4d481ae",
   "metadata": {},
   "outputs": [],
   "source": [
    "import time\n",
    "import requests\n",
    "from bs4 import BeautifulSoup"
   ]
  },
  {
   "cell_type": "code",
   "execution_count": 2,
   "id": "b3e336bb-8ed1-4045-87e0-47d4ab690206",
   "metadata": {},
   "outputs": [],
   "source": [
    "ListCurrency = [\n",
    "    (\"USD-BRL\",\"pt-br/currencies/tether\"),\n",
    "    (\"USD-EUR\",\"currencies/euro-coin\"),\n",
    "    (\"USD-BTC\",\"currencies/bitcoin\"),\n",
    "    (\"USD-USDT\",\"currencies/tether\")\n",
    "]"
   ]
  },
  {
   "cell_type": "code",
   "execution_count": 28,
   "id": "8f61834c-08d8-4603-9fd8-277b04f6dbe2",
   "metadata": {},
   "outputs": [
    {
     "name": "stdout",
     "output_type": "stream",
     "text": [
      "[{'name': 'USD-BRL', 'original_value': '6.06000000', 'converted_to_usd': '0.16501650'}, {'name': 'USD-EUR', 'original_value': '1.05000000', 'converted_to_usd': '0.95238095'}, {'name': 'USD-BTC', 'original_value': '95415.35000000', 'converted_to_usd': '0.00001048'}, {'name': 'USD-USDT', 'original_value': '1.00000000', 'converted_to_usd': '1.00000000'}]\n"
     ]
    }
   ],
   "source": [
    "import re\n",
    "\n",
    "# Tabela para armazenar os resultados\n",
    "currency_table = []\n",
    "\n",
    "# Itera sobre a lista de moedas\n",
    "for currency in ListCurrency:\n",
    "    url = f\"https://coinmarketcap.com/{currency[1]}\"\n",
    "    \n",
    "    # Realiza a requisição HTTP para obter o conteúdo da página\n",
    "    response = requests.get(url)\n",
    "    \n",
    "    # Verifica se a requisição foi bem-sucedida (status 200)\n",
    "    if response.status_code == 200:\n",
    "        # Usa o BeautifulSoup para fazer a análise do HTML da página\n",
    "        soup = BeautifulSoup(response.text, 'html.parser')\n",
    "        \n",
    "        try:\n",
    "            # Encontra o elemento que contém o valor da moeda usando o seletor 'data-test=\"text-cdp-price-display\"'\n",
    "            value_element = soup.find('span', {'data-test': 'text-cdp-price-display'})\n",
    "            \n",
    "            # Verifica se o elemento foi encontrado e extrai o valor\n",
    "            if value_element:\n",
    "                # Remove todos os caracteres não numéricos, exceto o ponto decimal\n",
    "                raw_value = value_element.text.strip()\n",
    "                cleaned_value = re.sub(r'[^\\d.]', '', raw_value)\n",
    "                currency_value = float(cleaned_value)\n",
    "                \n",
    "                # Calcula 1 / Valor da Moeda em USD com 8 casas decimais\n",
    "                converted_value = 1 / currency_value\n",
    "                \n",
    "                # Cria o objeto com os valores calculados\n",
    "                currency_data = {\n",
    "                    \"name\": currency[0],\n",
    "                    \"original_value\": f\"{currency_value:.8f}\",\n",
    "                    \"converted_to_usd\": f\"{converted_value:.8f}\"  # Formata para 8 casas decimais\n",
    "                }\n",
    "                \n",
    "                # Adiciona o objeto à tabela\n",
    "                currency_table.append(currency_data)\n",
    "            else:\n",
    "                print(f\"Não foi possível encontrar o valor para {currency[0]}\")\n",
    "        except Exception as e:\n",
    "            print(f\"Erro ao processar a moeda {currency[0]}: {e}\")\n",
    "    else:\n",
    "        print(f\"Falha ao acessar {url}, status code: {response.status_code}\")\n",
    "\n",
    "# Exibe o resultado\n",
    "print(currency_table)\n"
   ]
  },
  {
   "cell_type": "code",
   "execution_count": 26,
   "id": "3f29dee6-aefa-4e64-a87f-fc09be8e2925",
   "metadata": {},
   "outputs": [
    {
     "name": "stdout",
     "output_type": "stream",
     "text": [
      "[\n",
      "    {\n",
      "        \"name\": \"USD-BRL\",\n",
      "        \"original_value\": \"6.06000000\",\n",
      "        \"converted_to_usd\": \"0.16501650\"\n",
      "    },\n",
      "    {\n",
      "        \"name\": \"USD-EUR\",\n",
      "        \"original_value\": \"1.05000000\",\n",
      "        \"converted_to_usd\": \"0.95238095\"\n",
      "    },\n",
      "    {\n",
      "        \"name\": \"USD-BTC\",\n",
      "        \"original_value\": \"95313.97000000\",\n",
      "        \"converted_to_usd\": \"0.00001049\"\n",
      "    },\n",
      "    {\n",
      "        \"name\": \"USD-USDT\",\n",
      "        \"original_value\": \"1.00000000\",\n",
      "        \"converted_to_usd\": \"1.00000000\"\n",
      "    }\n",
      "]\n"
     ]
    }
   ],
   "source": [
    "import json\n",
    "#('USD-BRL', 'R$5.75'), ('USD-EUR', '$1.05'), ('USD-BTC', '$91,992.49')]\n",
    "currency_table_json = json.dumps(currency_table, indent=4)\n",
    "print(currency_table_json)"
   ]
  },
  {
   "cell_type": "code",
   "execution_count": null,
   "id": "00f0400e-2eb5-47ad-a1e7-37f6b687481f",
   "metadata": {},
   "outputs": [],
   "source": []
  }
 ],
 "metadata": {
  "kernelspec": {
   "display_name": "Python 3 (ipykernel)",
   "language": "python",
   "name": "python3"
  },
  "language_info": {
   "codemirror_mode": {
    "name": "ipython",
    "version": 3
   },
   "file_extension": ".py",
   "mimetype": "text/x-python",
   "name": "python",
   "nbconvert_exporter": "python",
   "pygments_lexer": "ipython3",
   "version": "3.12.7"
  }
 },
 "nbformat": 4,
 "nbformat_minor": 5
}
